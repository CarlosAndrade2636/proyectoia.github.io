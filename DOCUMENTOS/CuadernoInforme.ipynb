{
 "cells": [
  {
   "cell_type": "markdown",
   "metadata": {},
   "source": [
    "# <div align=\"center\"> <img src=\"https://raw.githubusercontent.com/JessicaRocano/IA/master/files/ups-logo.png\">\n",
    "# <div align=\"center\">  PROYECTO INTERCICLO\n",
    "    \n",
    "    \n",
    "    \n",
    "    \n",
    "### <div align=\"center\"> MATERIA:\n",
    "### <div align=\"center\"> Inteligencia Artificial 1 & Sistemas Expertos\n",
    "    \n",
    "    \n",
    "## <div align=\"center\"> DOCENTE:\n",
    "### <div align=\"center\"> Ing. Diego Quisi\n",
    "## <div align=\"center\"> \n",
    "## <div align=\"center\">INTEGRANTES\n",
    "#### <div align=\"center\"> Jessica Rocano\n",
    "#### <div align=\"center\"> Carlos Andrade\n",
    " ## </div>\n",
    "## </div>\n",
    "    \n",
    "   \n",
    "***\n",
    "- - -\n"
   ]
  },
  {
   "cell_type": "markdown",
   "metadata": {},
   "source": [
    "# <div align=\"center\"> Algoritmos  en Neo4j\n",
    "\n",
    "La biblioteca Neo4j Graph Data Science (GDS) contiene muchos algoritmos gráficos. Los algoritmos se dividen en categorías que representan diferentes clases de problemas.\n",
    "   "
   ]
  },
  {
   "cell_type": "markdown",
   "metadata": {},
   "source": [
    "### <div align=\"center\"> Algoritmo de Centralidad </div> ###\n",
    " Los algoritmos de centralidad se utilizan para determinar la importancia de distintos nodos en una red de datos.\n",
    " ## <div align=\"left\"> Page Rank (Rango de pagina)</div>\n",
    " - ### INTRODUCCION:\n",
    "El algoritmo de Page Rank mide la importancia de cada nodo dentro del grafo, en función del número de relaciones entrantes y la importancia de los nodos de origen correspondientes. Una página es tan importante como las páginas que enlazan con ella.\n",
    "  \n",
    " - ### DESCRIPCION:\n",
    " Page Rank se define en el documento original de Google como una función que resuelve la siguiente ecuación:\n",
    " PR(A) = (1-d) + d (PR(T1)/C(T1) + ... + PR(Tn)/C(Tn))\n",
    " \n",
    " DONDE:\n",
    "   * suponemos que una página Atiene páginas T1 a las Tn que apuntan (es decir, son citas).\n",
    "   * d es un factor de amortiguación que se puede establecer entre 0 y 1. Por lo general, se establece en 0,85.\n",
    "   * C(A)se define como el número de enlaces que salen de la página A.\n",
    "   \n",
    "   Esta ecuación se usa para actualizar iterativamente una solución candidata y llegar a una solución aproximada a la misma ecuación.\n",
    "   \n",
    "   La ejecución de este algoritmo requiere suficiente disponibilidad de memoria.\n",
    "   \n",
    "   \n",
    "- ### PROCESO:\n",
    "    * Sintaxis: \n",
    "      - #### Modo de escritura: ####\n",
    "          PageRank en modo de escritura en un gráfico almacenado en el catálogo.\n",
    "          ~~~\n",
    "          CALL gds.pageRank.write(\n",
    "          graphName: String,\n",
    "          configuration: Map\n",
    "            )\n",
    "            YIELD\n",
    "          // general write return columns\n",
    "          ranIterations: Integer,\n",
    "          didConverge: Boolean\n",
    "          ~~~\n",
    "              donde:\n",
    "              graphName: representa el nombre de un gráfico almacenado en el catálogo.\n",
    "              configuration: reprenta la configuración para algoritmos específicos y / o filtrado de gráficos.\n",
    "       - #### Configuración específica: ####\n",
    "           se debe especificar los siguientes parámetros\n",
    "            - dampingFactor: el valor de 0.85 por defecto, factor de amortiguación del cálculo del rango de página.\n",
    "            - maxIterations: el valor de 20 por defecto, represnta número máximo de iteraciones de Page Rank para ejecutar.\n",
    "            - tolerance: el valor de 0.0000001 por defecto, representa el cambio mínimo en las puntuaciones entre iteraciones. Si todas las puntuaciones cambian menos que el valor de tolerancia, el resultado se considera estable y el algoritmo regresa.\n",
    "            - relationshipWeightProperty. el valor por defecto es null, de tipo opcional , permite especificar el nombre de la propiedad que contiene peso. Si es nulo, trata el gráfico como no ponderado. Debe ser numérico.\n",
    "\n",
    "- ### EJEMPLO SENCILLO:\n",
    "\n",
    "\n",
    "\n",
    "       \n"
   ]
  },
  {
   "cell_type": "code",
   "execution_count": 5,
   "metadata": {},
   "outputs": [],
   "source": [
    "from py2neo import Graph\n",
    "graph = Graph(password=\"jessica\")"
   ]
  },
  {
   "cell_type": "code",
   "execution_count": 6,
   "metadata": {},
   "outputs": [],
   "source": [
    "from py2neo import Node, Relationship"
   ]
  },
  {
   "cell_type": "code",
   "execution_count": 20,
   "metadata": {},
   "outputs": [],
   "source": [
    "alice = Node(\"Person\", name=\"Alice\")\n",
    "bob = Node(\"Person\", name=\"Bob\")\n",
    "alice_knows_bob = Relationship(alice, \"KNOWS\", bob)\n",
    "graph.create(alice_knows_bob)"
   ]
  },
  {
   "cell_type": "code",
   "execution_count": null,
   "metadata": {},
   "outputs": [],
   "source": [
    "prueba crear nodo"
   ]
  },
  {
   "cell_type": "code",
   "execution_count": 30,
   "metadata": {},
   "outputs": [
    {
     "data": {
      "text/plain": [
       "<py2neo.database.Cursor at 0x114d22850>"
      ]
     },
     "execution_count": 30,
     "metadata": {},
     "output_type": "execute_result"
    }
   ],
   "source": [
    "graph.run(\"CREATE (Paco:Person {name:'Andre', born:1964})\")"
   ]
  },
  {
   "cell_type": "markdown",
   "metadata": {},
   "source": [
    "DATOS INICIALES"
   ]
  },
  {
   "cell_type": "code",
   "execution_count": 7,
   "metadata": {},
   "outputs": [
    {
     "name": "stdout",
     "output_type": "stream",
     "text": [
      "(_0:Colegio {Ciudad: 'Cuenca', name: 'Colegio Militar Abdon Calderon', valor: '3.9'})\n",
      "(_1:Colegio {Ciudad: 'Cuenca', name: 'Colegio Benigno Malo', valor: '4.6'})\n",
      "(_2:Colegio {Ciudad: 'Cuenca', name: 'Colegio Tecnico Salesiano', valor: '4.5'})\n",
      "(_3:Colegio {Ciudad: 'Cuenca', name: 'Colegio interandino', valor: '3.5'})\n",
      "(_4:Colegio {Ciudad: 'Cuenca', name: 'Colegio Continental', valor: '3.4'})\n",
      "(_5:Colegio {Ciudad: 'Cuenca', name: 'Unidad Educativa Los Andes', valor: '4.5'})\n",
      "(_6:Colegio {Ciudad: 'Cuenca', name: 'Colegio De Bachillerato T\\u00e9cnico Daniel C\\u00f3rdova Toral', valor: '5.0'})\n",
      "(_7:Colegio {Ciudad: 'Cuenca', name: 'Colegio Herlinda Toral', valor: '4.5'})\n",
      "(_8:Colegio {Ciudad: 'Cuenca', name: 'Unidad Educativa \"Hermano Miguel \" LA SALLE.', valor: '4.4'})\n",
      "(_9:Colegio {Ciudad: 'Cuenca', name: 'Unidad Educativa Particular Dominicana \"San Luis Beltr\\u00e1n\"', valor: '5.0'})\n",
      "(_10:Hospital {Ciudad: 'Cuenca', name: 'Hospital Regional Jos\\u00e9 Carrasco Arteaga (IESS)', valor: '3.5'})\n",
      "(_11:Hospital {Ciudad: 'Cuenca', name: 'Medisol 12 De Abril IESS', valor: '5.0'})\n",
      "(_12:Hospital {Ciudad: 'Cuenca', name: 'Hospital Vicente Corral Moscoso', valor: '3.6'})\n",
      "(_13:Hospital {Ciudad: 'Cuenca', name: 'Hospital Universitario Cat\\u00f3lico', valor: '3.7'})\n",
      "(_14:Hospital {Ciudad: 'Cuenca', name: 'Hospital Monte Sinai', valor: '4.2'})\n",
      "(_15:Hospital {Ciudad: 'Cuenca', name: 'Hospital San Juan De Dios', valor: '4.6'})\n",
      "(_16:Hospital {Ciudad: 'Cuenca', name: 'Cl\\u00ednica Santa Ines', valor: '4.4'})\n",
      "(_17:Hospital {Ciudad: 'Cuenca', name: 'IESS - Centro de Salud C - Materno Infantil y Emergencias \\u2013 Cuenca', valor: '3.8'})\n",
      "(_18:Hospital {Ciudad: 'Cuenca', name: 'Hospital Militar', valor: '3.7'})\n",
      "(_19:Hospital {Ciudad: 'Cuenca', name: 'Punto De Salud', valor: '3.0'})\n",
      "(_20:Iglesia {Ciudad: 'Cuenca', name: 'Catedral De Cuenca', valor: '4.8'})\n",
      "(_21:Iglesia {Ciudad: 'Cuenca', name: 'Catedral Vieja de Cuenca', valor: '4.7'})\n",
      "(_22:Iglesia {Ciudad: 'Cuenca', name: 'Iglesia de San Alfonso', valor: '4.7'})\n",
      "(_23:Iglesia {Ciudad: 'Cuenca', name: 'Iglesia de Todos Santos', valor: '4.5'})\n",
      "(_24:Iglesia {Ciudad: 'Cuenca', name: 'Iglesia de Santo Domingo', valor: '4.5'})\n",
      "(_25:Iglesia {Ciudad: 'Cuenca', name: 'Iglesia La Merced', valor: '4.2'})\n",
      "(_26:Iglesia {Ciudad: 'Cuenca', name: 'Iglesia Maria Auxiliadora', valor: '4.4'})\n",
      "(_27:Iglesia {Ciudad: 'Cuenca', name: 'San Sebasti\\u00e1n', valor: '4.5'})\n",
      "(_28:Iglesia {Ciudad: 'Cuenca', name: 'Santo Cen\\u00e1culo', valor: '4.5'})\n",
      "(_29:Iglesia {Ciudad: 'Cuenca', name: 'Iglesia San Francisco', valor: '4.5'})\n",
      "(_30:Mercado {Ciudad: 'Cuenca', name: 'Mercado 9 de Octubre', valor: '4.0'})\n",
      "(_31:Mercado {Ciudad: 'Cuenca', name: 'Mercado 3 De Noviembre', valor: '4.0'})\n",
      "(_32:Mercado {Ciudad: 'Cuenca', name: 'Mercado 10 de Agosto', valor: '4.1'})\n",
      "(_33:Mercado {Ciudad: 'Cuenca', name: 'Mercado 4 de Noviembre', valor: '3.8'})\n",
      "(_34:Mercado {Ciudad: 'Cuenca', name: 'Mercado de Artesanias Rotary', valor: '4.3'})\n",
      "(_35:Mercado {Ciudad: 'Cuenca', name: 'El Arenal', valor: '3.7'})\n",
      "(_36:Mercado {Ciudad: 'Cuenca', name: 'Mercado 12 de Abril', valor: '4.2'})\n",
      "(_37:Mercado {Ciudad: 'Cuenca', name: 'Flowers Market Mercado de las Flores', valor: '4.1'})\n",
      "(_38:Mercado {Ciudad: 'Cuenca', name: 'Mercado de Miraflores', valor: '4.3'})\n",
      "(_39:Mercado {Ciudad: 'Cuenca', name: 'Ar\\u00e1ndano Mercado Mayorista', valor: '4.4'})\n",
      "(_40:Parque {Ciudad: 'Cuenca', name: 'Parque El Para\\u00edso', valor: '4.6'})\n",
      "(_41:Parque {Ciudad: 'Cuenca', name: 'Parque La Libertad', valor: '4.5'})\n",
      "(_42:Parque {Ciudad: 'Cuenca', name: 'Parque de la Madre', valor: '4.6'})\n",
      "(_43:Parque {Ciudad: 'Cuenca', name: 'Parque De La Luz', valor: '4.5'})\n",
      "(_44:Parque {Ciudad: 'Cuenca', name: 'Parque Calder\\u00f3n', valor: '4.7'})\n",
      "(_45:Parque {Ciudad: 'Cuenca', name: 'Parque San Blas', valor: '4.4'})\n",
      "(_46:Parque {Ciudad: 'Cuenca', name: 'Parque La Republica', valor: '4.1'})\n",
      "(_47:Parque {Ciudad: 'Cuenca', name: 'Parque curiquingue', valor: '4.2'})\n",
      "(_48:Parque {Ciudad: 'Cuenca', name: 'Parque Guatana', valor: '4.2'})\n",
      "(_49:Parque {Ciudad: 'Cuenca', name: 'Parque de La \"UNE\"', valor: '3.9'})\n",
      "(_50:Colegio {Ciudad: 'Santo Domingo', name: 'Colegio Particular Tercer Milenio', valor: '5'})\n",
      "(_51:Colegio {Ciudad: 'Santo Domingo', name: 'Antonio Neumane', valor: '4.2'})\n",
      "(_52:Colegio {Ciudad: 'Santo Domingo', name: 'Colegio P\\u00cdO XII', valor: '5'})\n",
      "(_53:Colegio {Ciudad: 'Santo Domingo', name: 'Colegio Particular Tercer Milenio', valor: '5'})\n",
      "(_54:Colegio {Ciudad: 'Santo Domingo', name: 'Colegio Latino', valor: '5'})\n",
      "(_55:Colegio {Ciudad: 'Santo Domingo', name: 'Colegio Nacional Mixto \"Santo Domingo De Los Colorados\"', valor: '4.6'})\n",
      "(_56:Colegio {Ciudad: 'Santo Domingo', name: 'U.E. Ra\\u00fal Gonz\\u00e1lez Astudillo \" LA PROVIDENCIA\"', valor: '4.3'})\n",
      "(_57:Colegio {Ciudad: 'Santo Domingo', name: 'Unidad Educativa', valor: '5'})\n",
      "(_58:Colegio {Ciudad: 'Santo Domingo', name: 'colegio \"FE Y ALEGRIA\"', valor: '4.2'})\n",
      "(_59:Colegio {Ciudad: 'Santo Domingo', name: 'Unidad Educativa Madre Laura Santo Domingo', valor: '4.5'})\n",
      "(_60:Hospital {Ciudad: 'Santo Domingo', name: 'Centro de Salud Barrazueta', valor: '5'})\n",
      "(_61:Hospital {Ciudad: 'Santo Domingo', name: 'Hospital General Santo Domingo', valor: '4.3'})\n",
      "(_62:Hospital {Ciudad: 'Santo Domingo', name: 'Hospital Dr. Gustavo Dominguez Zambrano', valor: '3.9'})\n",
      "(_63:Hospital {Ciudad: 'Santo Domingo', name: 'Hospital SALUDESA', valor: '4.1'})\n",
      "(_64:Hospital {Ciudad: 'Santo Domingo', name: 'Hospital IESS Santo Domingo de los Tsachilas', valor: '3.9'})\n",
      "(_65:Hospital {Ciudad: 'Santo Domingo', name: 'Hospital San Marcos', valor: '5'})\n",
      "(_66:Hospital {Ciudad: 'Santo Domingo', name: 'Hospital Reina Sofia', valor: '4'})\n",
      "(_67:Hospital {Ciudad: 'Santo Domingo', name: 'Hospital B\\u00e1sico Torre M\\u00e9dica San Andr\\u00e9s', valor: '4.1'})\n",
      "(_68:Hospital {Ciudad: 'Santo Domingo', name: 'Hospital Cuba Center', valor: '3.5'})\n",
      "(_69:Hospital {Ciudad: 'Santo Domingo', name: 'Hospital B\\u00e1sico Los \\u00c1ngeles', valor: '5'})\n",
      "(_70:Iglesia {Ciudad: 'Santo Domingo', name: 'Iglesia Cristiana Verbo Santo Domingo', valor: '5'})\n",
      "(_71:Iglesia {Ciudad: 'Santo Domingo', name: 'Iglesia Catolica Santo Hermano Miguel', valor: '4.3'})\n",
      "(_72:Iglesia {Ciudad: 'Santo Domingo', name: 'Iglesia Central', valor: '4.3'})\n",
      "(_73:Iglesia {Ciudad: 'Santo Domingo', name: 'Iglesia Cat\\u00f3lica La Dolorosa', valor: '4.5'})\n",
      "(_74:Iglesia {Ciudad: 'Santo Domingo', name: 'Iglesia municipal - Catolica', valor: '3.8'})\n",
      "(_75:Iglesia {Ciudad: 'Santo Domingo', name: 'Iglesia evang\\u00e9lica El Buen Pastor', valor: '4.5'})\n",
      "(_76:Iglesia {Ciudad: 'Santo Domingo', name: 'Iglesia B\\u00edblica Bautista \"Rey de Vida\"', valor: '4.8'})\n",
      "(_77:Iglesia {Ciudad: 'Santo Domingo', name: 'Centro Cristiano Nueva Vida', valor: '4.8'})\n",
      "(_78:Iglesia {Ciudad: 'Santo Domingo', name: 'Iglesia De Los Mormones', valor: '4.6'})\n",
      "(_79:Iglesia {Ciudad: 'Santo Domingo', name: 'Iglesia cristiana tercer camino', valor: '4'})\n",
      "(_80:Mercado {Ciudad: 'Santo Domingo', name: 'Mercado De Mariscos 17 De Diciembre', valor: '4'})\n",
      "(_81:Mercado {Ciudad: 'Santo Domingo', name: 'Mercado Muncipal 30 de Julio / Mercados', valor: '4.1'})\n",
      "(_82:Mercado {Ciudad: 'Santo Domingo', name: 'Mercado Municipal Santo Domingo De Los Colorados', valor: '3.9'})\n",
      "(_83:Mercado {Ciudad: 'Santo Domingo', name: 'Union y Progreso', valor: '4'})\n",
      "(_84:Mercado {Ciudad: 'Santo Domingo', name: 'Mercado De Mariscos', valor: '3.5'})\n",
      "(_85:Mercado {Ciudad: 'Santo Domingo', name: 'Mercado Juan Eulogio', valor: '3.5'})\n",
      "(_86:Mercado {Ciudad: 'Santo Domingo', name: 'Despensa La Conveniencia', valor: '4.2'})\n",
      "(_87:Mercado {Ciudad: 'Santo Domingo', name: 'Mercado La FERIA de ropa', valor: '4.2'})\n",
      "(_88:Mercado {Ciudad: 'Santo Domingo', name: 'Plaza Santo Domingo', valor: '3.9'})\n",
      "(_89:Mercado {Ciudad: 'Santo Domingo', name: 'MERCADO MUNICIPAL 29 DE MAYO', valor: '5'})\n",
      "(_90:Parque {Ciudad: 'Santo Domingo', name: 'Parque de la Juventud y la Familia', valor: '4.2'})\n",
      "(_91:Parque {Ciudad: 'Santo Domingo', name: 'Parque Lineal Manuel Ramos', valor: '3.9'})\n",
      "(_92:Parque {Ciudad: 'Santo Domingo', name: 'Parque Central', valor: '4'})\n",
      "(_93:Parque {Ciudad: 'Santo Domingo', name: 'Parque Zaracay', valor: '4'})\n",
      "(_94:Parque {Ciudad: 'Santo Domingo', name: 'Parque de la Madre', valor: '3.7'})\n",
      "(_95:Parque {Ciudad: 'Santo Domingo', name: 'Parque Ecol\\u00f3gico', valor: '4'})\n",
      "(_96:Parque {Ciudad: 'Santo Domingo', name: 'Parque Manuel Ramos', valor: '4'})\n",
      "(_97:Parque {Ciudad: 'Santo Domingo', name: 'Parque Ecol\\u00f3gico Etno - Bot\\u00e1nico \\u201cMariano Chanchay \\u201d', valor: '4.3'})\n",
      "(_98:Parque {Ciudad: 'Santo Domingo', name: 'Parque Lineal Las Palmeras', valor: '4'})\n",
      "(_99:Parque {Ciudad: 'Santo Domingo', name: 'Parque las palmas ciudad verde', valor: '4'})\n",
      "(_100:Colegio {Ciudad: 'Quito', name: 'Colegio T\\u00e9cnico \"Ecuador\"', valor: '4.0'})\n",
      "(_101:Colegio {Ciudad: 'Quito', name: 'Colegio Intisana', valor: '4.1'})\n",
      "(_102:Colegio {Ciudad: 'Quito', name: 'Colegio Menor San Francisco de Quito', valor: '4.7'})\n",
      "(_103:Colegio {Ciudad: 'Quito', name: 'Colegio Julio Verne', valor: '4.5'})\n",
      "(_104:Colegio {Ciudad: 'Quito', name: 'Colegio Particular a Distancia Octavio Paz', valor: '4.1'})\n",
      "(_105:Colegio {Ciudad: 'Quito', name: 'Colegio a Distancia Nuevo Ecuador', valor: '4.3'})\n",
      "(_106:Colegio {Ciudad: 'Quito', name: 'Colegio Particular Brasil', valor: '4.2'})\n",
      "(_107:Colegio {Ciudad: 'Quito', name: 'Colegio Americano de Quito', valor: '4.5'})\n",
      "(_108:Colegio {Ciudad: 'Quito', name: 'Colegio Internacional SEK - Ecuador', valor: '4.1'})\n",
      "(_109:Colegio {Ciudad: 'Quito', name: 'Colegio Becquerel', valor: '3.8'})\n",
      "(_110:Hospital {Ciudad: 'Quito', name: 'Centro Medico La Florida', valor: '4.0'})\n",
      "(_111:Hospital {Ciudad: 'Quito', name: 'Hospital de Especialidades FFAA N\\u00b01', valor: '4.3'})\n",
      "(_112:Hospital {Ciudad: 'Quito', name: 'Hospital de Especialidades \"Eugenio Espejo\"', valor: '4.0'})\n",
      "(_113:Hospital {Ciudad: 'Quito', name: 'Hospital Vozandes Quito', valor: '4.0'})\n",
      "(_114:Hospital {Ciudad: 'Quito', name: 'Hospital Carlos Andrade Mar\\u00edn', valor: '3.6'})\n",
      "(_115:Hospital {Ciudad: 'Quito', name: 'Hospital del Sur Enrique Garc\\u00e9s', valor: '4.0'})\n",
      "(_116:Hospital {Ciudad: 'Quito', name: 'Hospital Metropolitano', valor: '4.3'})\n",
      "(_117:Hospital {Ciudad: 'Quito', name: 'Hospital de Solca', valor: '4.2'})\n",
      "(_118:Hospital {Ciudad: 'Quito', name: 'Hospital Alianza del Ecuador | cirug\\u00edas', valor: '4.8'})\n",
      "(_119:Hospital {Ciudad: 'Quito', name: 'Hospital de Atenci\\u00f3n Integral al Adulto Mayor', valor: '4.1'})\n",
      "(_120:Iglesia {Ciudad: 'Quito', name: 'Iglesia de Nuestra Se\\u00f1ora de La Merced', valor: '4.6'})\n",
      "(_121:Iglesia {Ciudad: 'Quito', name: 'Bas\\u00edlica Cat\\u00f3lica de San Pedro de Conocoto', valor: '4.5'})\n",
      "(_122:Iglesia {Ciudad: 'Quito', name: 'Iglesia Nuestra Se\\u00f1ora de la Paz', valor: '4.7'})\n",
      "(_123:Iglesia {Ciudad: 'Quito', name: 'Iglesia El Bel\\u00e9n', valor: '4.6'})\n",
      "(_124:Iglesia {Ciudad: 'Quito', name: 'El Se\\u00f1or de los Puentes', valor: '4.6'})\n",
      "(_125:Iglesia {Ciudad: 'Quito', name: 'Iglesia Santa Teresita', valor: '4.6'})\n",
      "(_126:Iglesia {Ciudad: 'Quito', name: 'Iglesia Dios es Fiel', valor: '4.8'})\n",
      "(_127:Iglesia {Ciudad: 'Quito', name: 'Iglesia Cat\\u00f3lica Jes\\u00fas El Buen Pastor', valor: '4.6'})\n",
      "(_128:Iglesia {Ciudad: 'Quito', name: 'Iglesia de Cristo la Col\\u00f3n', valor: '4.9'})\n",
      "(_129:Iglesia {Ciudad: 'Quito', name: 'Catedral Metropolitana de Quito', valor: '4.7'})\n",
      "(_130:Mercado {Ciudad: 'Quito', name: 'Mercado Central', valor: '4.1'})\n",
      "(_131:Mercado {Ciudad: 'Quito', name: 'Mercado I\\u00f1aquito (Mercado La Carolina)', valor: '4.2'})\n",
      "(_132:Mercado {Ciudad: 'Quito', name: 'Mercado M.M. - verduras y frutas', valor: '4.1'})\n",
      "(_133:Mercado {Ciudad: 'Quito', name: 'Mercado Artesanal La Mariscal', valor: '4.4'})\n",
      "(_134:Mercado {Ciudad: 'Quito', name: 'Mercado Carapungo', valor: '3.9'})\n",
      "(_135:Mercado {Ciudad: 'Quito', name: 'Mercado La Floresta', valor: '4.3'})\n",
      "(_136:Mercado {Ciudad: 'Quito', name: 'Mercado de San Roque', valor: '3.5'})\n",
      "(_137:Mercado {Ciudad: 'Quito', name: 'Mercado Cumbay\\u00e1', valor: '4.2'})\n",
      "(_138:Mercado {Ciudad: 'Quito', name: 'Mercado De Solanda', valor: '4.1'})\n",
      "(_139:Mercado {Ciudad: 'Quito', name: 'Mercado Municipal Chiriyacu', valor: '3.9'})\n",
      "(_140:Parque {Ciudad: 'Quito', name: 'Parque Metropolitano Guang\\u00fciltagua', valor: '4.6'})\n",
      "(_141:Parque {Ciudad: 'Quito', name: 'Parque El Ejido', valor: '4.1'})\n",
      "(_142:Parque {Ciudad: 'Quito', name: 'Parque Metropolitano del Sur', valor: '4.4'})\n",
      "(_143:Parque {Ciudad: 'Quito', name: 'Parque La Alameda', valor: '4.2'})\n",
      "(_144:Parque {Ciudad: 'Quito', name: 'Parque Itchimb\\u00eda', valor: '4.6'})\n",
      "(_145:Parque {Ciudad: 'Quito', name: 'Parque Metropolitano Equinoccial', valor: '4.2'})\n",
      "(_146:Parque {Ciudad: 'Quito', name: 'Parque Arqueol\\u00f3gico Rumipamba', valor: '4.5'})\n",
      "(_147:Parque {Ciudad: 'Quito', name: 'Parque Gu\\u00e1pulo', valor: '4.6'})\n",
      "(_148:Parque {Ciudad: 'Quito', name: 'Parque Bicentenario', valor: '4.3'})\n",
      "(_149:Parque {Ciudad: 'Quito', name: 'Parque Puertas del Sol', valor: '4.5'})\n",
      "(_150:Colegio {Ciudad: 'Guayaquil', name: 'Colegio Americano de Guayaquil', valor: '4.3'})\n",
      "(_151:Colegio {Ciudad: 'Guayaquil', name: 'Colegio Nazareth', valor: '4.8'})\n",
      "(_152:Colegio {Ciudad: 'Guayaquil', name: 'Colegio 28 De Mayo', valor: '4.4'})\n",
      "(_153:Colegio {Ciudad: 'Guayaquil', name: 'Colegio Javier', valor: '5'})\n",
      "(_154:Colegio {Ciudad: 'Guayaquil', name: 'Colegio Menor Santiago de Guayaquil', valor: '4.3'})\n",
      "(_155:Colegio {Ciudad: 'Guayaquil', name: 'Colegio Pert', valor: '3'})\n",
      "(_156:Colegio {Ciudad: 'Guayaquil', name: 'Unidad Educativa Fiscal Teniente Hugo Ortiz', valor: '4.3'})\n",
      "(_157:Colegio {Ciudad: 'Guayaquil', name: 'Colegio Particular Maria Goretti', valor: '4.5'})\n",
      "(_158:Colegio {Ciudad: 'Guayaquil', name: 'Colegio Santiago De Guayaquil', valor: '2.5'})\n",
      "(_159:Colegio {Ciudad: 'Guayaquil', name: 'Colegio Pdte. Carlos Julio Arosemena Tola', valor: '3.9'})\n",
      "(_160:Hospital {Ciudad: 'Guayaquil', name: 'Hospital Abel Gilbert Pont\\u00f3n (Hospital Guayaquil)', valor: '3.9'})\n",
      "(_161:Hospital {Ciudad: 'Guayaquil', name: 'Hospital Luis Vernaza de la Junta de Beneficencia de Guayaquil', valor: '4.1'})\n",
      "(_162:Hospital {Ciudad: 'Guayaquil', name: 'Hospital Universitario de Guayaquil', valor: '4.1'})\n",
      "(_163:Hospital {Ciudad: 'Guayaquil', name: 'Hospital Cl\\u00ednica San Francisco', valor: '4.2'})\n",
      "(_164:Hospital {Ciudad: 'Guayaquil', name: 'Hospital Del Dia Samuel Ratinoff', valor: '4.4'})\n",
      "(_165:Hospital {Ciudad: 'Guayaquil', name: 'Hospital del dia Dr Angel Felicisimo Rojas', valor: '3.3'})\n",
      "(_166:Hospital {Ciudad: 'Guayaquil', name: 'Hospital Cl\\u00ednica Kennedy Samborond\\u00f3n', valor: '3.7'})\n",
      "(_167:Hospital {Ciudad: 'Guayaquil', name: 'Hospital Del Dia', valor: '3.5'})\n",
      "(_168:Hospital {Ciudad: 'Guayaquil', name: 'Hospital Del iess (La Cadena)', valor: '3.7'})\n",
      "(_169:Hospital {Ciudad: 'Guayaquil', name: 'Hospital de Especialidades Teodoro Maldonado Carbo', valor: '4.2'})\n",
      "(_170:Iglesia {Ciudad: 'Guayaquil', name: 'Iglesia Cat\\u00f3lica Nuestra Se\\u00f1ora de Czestochowa', valor: '4.8'})\n",
      "(_171:Iglesia {Ciudad: 'Guayaquil', name: 'Iglesia Cat\\u00f3lica San Gabriel de la Dolorosa', valor: '4.7'})\n",
      "(_172:Iglesia {Ciudad: 'Guayaquil', name: 'Iglesia Cat\\u00f3lica Mar\\u00eda Madre de la Iglesia', valor: '4.7'})\n",
      "(_173:Iglesia {Ciudad: 'Guayaquil', name: 'Iglesia San Josemar\\u00eda Escriv\\u00e1', valor: '4.7'})\n",
      "(_174:Iglesia {Ciudad: 'Guayaquil', name: 'Iglesia La Merced', valor: '4.7'})\n",
      "(_175:Iglesia {Ciudad: 'Guayaquil', name: 'Iglesia Santa Teresita del Ni\\u00f1o Jes\\u00fas', valor: '4.7'})\n",
      "(_176:Iglesia {Ciudad: 'Guayaquil', name: 'Iglesia de la Victoria Nuestra Se\\u00f1ora del Carmen', valor: '4.4'})\n",
      "(_177:Iglesia {Ciudad: 'Guayaquil', name: 'Iglesia San Alejo', valor: '4.5'})\n",
      "(_178:Iglesia {Ciudad: 'Guayaquil', name: 'Iglesia Cat\\u00f3lica Se\\u00f1or de La Buena Esperanza', valor: '4.7'})\n",
      "(_179:Iglesia {Ciudad: 'Guayaquil', name: 'Catedral Metropolitana De Guayaquil', valor: '4.7'})\n",
      "(_180:Mercado {Ciudad: 'Guayaquil', name: 'Mercado Mapasingue Oeste', valor: '4.2'})\n",
      "(_181:Mercado {Ciudad: 'Guayaquil', name: 'Mercado Artesanal', valor: '4.4'})\n",
      "(_182:Mercado {Ciudad: 'Guayaquil', name: 'Mercado informal Paraiso de la Flor', valor: '4'})\n",
      "(_183:Mercado {Ciudad: 'Guayaquil', name: 'Mercado Municipal \"Basti\\u00f3n Popular\"', valor: '4.1'})\n",
      "(_184:Mercado {Ciudad: 'Guayaquil', name: 'Mercado Transferencia de Viveres', valor: '4.2'})\n",
      "(_185:Mercado {Ciudad: 'Guayaquil', name: 'Mercado Oeste', valor: '4.3'})\n",
      "(_186:Mercado {Ciudad: 'Guayaquil', name: 'Mercado Jos\\u00e9 Mascote', valor: '4.1'})\n",
      "(_187:Mercado {Ciudad: 'Guayaquil', name: 'Mercado Municipal \"Caraguay\"', valor: '4.1'})\n",
      "(_188:Mercado {Ciudad: 'Guayaquil', name: 'Mercado San Jacinto', valor: '3.9'})\n",
      "(_189:Mercado {Ciudad: 'Guayaquil', name: 'Mercado Municipal Casuarina', valor: '4.1'})\n",
      "(_190:Parque {Ciudad: 'Guayaquil', name: 'Parque Samanes', valor: '4.6'})\n",
      "(_191:Parque {Ciudad: 'Guayaquil', name: 'Parque Forestal de Guayaquil', valor: '4.3'})\n",
      "(_192:Parque {Ciudad: 'Guayaquil', name: 'Parque Hist\\u00f3rico de Guayaquil', valor: '4.7'})\n",
      "(_193:Parque {Ciudad: 'Guayaquil', name: 'Parque Lineal del Estero Salado', valor: '4.6'})\n",
      "(_194:Parque {Ciudad: 'Guayaquil', name: 'Parque Ramon Unamuno', valor: '4.4'})\n",
      "(_195:Parque {Ciudad: 'Guayaquil', name: 'Parque Seminario', valor: '4.6'})\n",
      "(_196:Parque {Ciudad: 'Guayaquil', name: 'Parque de Urdesa', valor: '4.5'})\n",
      "(_197:Parque {Ciudad: 'Guayaquil', name: 'Parque Infantil de La Atarazana', valor: '4.5'})\n",
      "(_198:Parque {Ciudad: 'Guayaquil', name: 'Parque de Miraflores', valor: '4.2'})\n",
      "(_199:Parque {Ciudad: 'Guayaquil', name: 'Parque del ni\\u00f1o', valor: '4.1'})\n",
      "(_200:Colegio {Ciudad: 'Machala', name: 'Colegio Particular Hermano Miguel', valor: '3'})\n",
      "(_201:Colegio {Ciudad: 'Machala', name: 'Colegio 9 de Octubre', valor: '4.5'})\n",
      "(_202:Colegio {Ciudad: 'Machala', name: 'Colegio de Bachillerato Rep\\u00fablica del Ecuador COLBREC', valor: '4.1'})\n",
      "(_203:Colegio {Ciudad: 'Machala', name: 'Colegio De Bachillerato \"Juan Montalvo\"', valor: '5'})\n",
      "(_204:Colegio {Ciudad: 'Machala', name: 'Colegio De Bachillerato \"MACHALA\"', valor: '4.5'})\n",
      "(_205:Colegio {Ciudad: 'Machala', name: 'Colegio Tecnico El Oro', valor: '4.6'})\n",
      "(_206:Colegio {Ciudad: 'Machala', name: 'Colegio Particular Latinoamericano', valor: '4'})\n",
      "(_207:Colegio {Ciudad: 'Machala', name: 'Colegio T\\u00e9cnico Matilde Hidalgo de Pr\\u00f3cel', valor: '3.4'})\n",
      "(_208:Colegio {Ciudad: 'Machala', name: 'Colegio de Bachillerato \"9 de Mayo\"', valor: '5'})\n",
      "(_209:Colegio {Ciudad: 'Machala', name: 'Colegio de Bachillerato Republica del Peru', valor: '3'})\n",
      "(_210:Hospital {Ciudad: 'Machala', name: 'Hospital Te\\u00f3filo D\\u00e1vila', valor: '4.5'})\n",
      "(_211:Hospital {Ciudad: 'Machala', name: 'Centro De Salud', valor: '4.4'})\n",
      "(_212:Hospital {Ciudad: 'Machala', name: 'Hospital Esperanza', valor: '4.1'})\n",
      "(_213:Hospital {Ciudad: 'Machala', name: 'Unidad M\\u00e9dica Municipal \"Dr. Pomerio Cabrera\"', valor: '4.2'})\n",
      "(_214:Hospital {Ciudad: 'Machala', name: 'Hospital General Machala', valor: '4'})\n",
      "(_215:Hospital {Ciudad: 'Machala', name: 'Hospital IESS de Machala', valor: '4.1'})\n",
      "(_216:Hospital {Ciudad: 'Machala', name: 'Hospital Municipal Del Sur', valor: '4.4'})\n",
      "(_217:Hospital {Ciudad: 'Machala', name: 'Cl\\u00ednica De Traumatolog\\u00eda', valor: '4.3'})\n",
      "(_218:Hospital {Ciudad: 'Machala', name: 'Hospital Guayaquil de Machala', valor: '5'})\n",
      "(_219:Hospital {Ciudad: 'Machala', name: 'Clinica Ni\\u00f1o Jesus', valor: '4.5'})\n",
      "(_220:Iglesia {Ciudad: 'Machala', name: 'Iglesia Evang\\u00e9lica Bautista \"Esp\\u00edritu Santo\"', valor: '5'})\n",
      "(_221:Iglesia {Ciudad: 'Machala', name: 'Iglesia Cat\\u00f3lica \"Nuestra Se\\u00f1ora de Chilla\" - Machala', valor: '4.3'})\n",
      "(_222:Iglesia {Ciudad: 'Machala', name: 'Iglesia Cuadrangular Machala Sur', valor: '4.1'})\n",
      "(_223:Iglesia {Ciudad: 'Machala', name: 'Iglesia Eclesi\\u00e1stica Teresa De Calcuta', valor: '4.5'})\n",
      "(_224:Iglesia {Ciudad: 'Machala', name: 'Iglesia Cat\\u00f3lica \"Sagrado Coraz\\u00f3n de Jes\\u00fas\"', valor: '4.6'})\n",
      "(_225:Iglesia {Ciudad: 'Machala', name: 'Iglesia Cat\\u00f3lica Cristo del Consuelo - Machala', valor: '4.8'})\n",
      "(_226:Iglesia {Ciudad: 'Machala', name: 'Iglesia las Carmelitas', valor: '4.7'})\n",
      "(_227:Iglesia {Ciudad: 'Machala', name: 'Centro Cristiano De Machala', valor: '4.6'})\n",
      "(_228:Iglesia {Ciudad: 'Machala', name: 'Iglesia Santuario del Divi\\u00f1o Ni\\u00f1o', valor: '4.8'})\n",
      "(_229:Iglesia {Ciudad: 'Machala', name: 'Catedral Cat\\u00f3lica de Machala', valor: '4.5'})\n",
      "(_230:Mercado {Ciudad: 'Machala', name: 'Mercado Sur Machala', valor: '4'})\n",
      "(_231:Mercado {Ciudad: 'Machala', name: 'Mercado Central De Machala', valor: '3.3'})\n",
      "(_232:Mercado {Ciudad: 'Machala', name: 'Mercado Municipal Pto. Bol\\u00edvar', valor: '4.1'})\n",
      "(_233:Mercado {Ciudad: 'Machala', name: 'Feria libre', valor: '5'})\n",
      "(_234:Mercado {Ciudad: 'Machala', name: 'Supermercados del Norte', valor: '4'})\n",
      "(_235:Mercado {Ciudad: 'Machala', name: 'Supermaxi Machala', valor: '4.6'})\n",
      "(_236:Mercado {Ciudad: 'Machala', name: 'Mercado Municipal De Mayoristas Y Minoristas De Machala.', valor: '3.6'})\n",
      "(_237:Mercado {Ciudad: 'Machala', name: 'AK\\u00cd Machala', valor: '4.5'})\n",
      "(_238:Mercado {Ciudad: 'Machala', name: 'T\\u00cdA Machala', valor: '4.2'})\n",
      "(_239:Mercado {Ciudad: 'Machala', name: 'Super AK\\u00cd Palmeras', valor: '4.5'})\n",
      "(_240:Parque {Ciudad: 'Machala', name: 'Parque Zoila Ugarte', valor: '4.5'})\n",
      "(_241:Parque {Ciudad: 'Machala', name: 'PARQUE URBANO MACHALA', valor: '4.4'})\n",
      "(_242:Parque {Ciudad: 'Machala', name: 'Parque Lineal', valor: '4.1'})\n",
      "(_243:Parque {Ciudad: 'Machala', name: 'Parque De La Madre', valor: '4.2'})\n",
      "(_244:Parque {Ciudad: 'Machala', name: 'Parque Simon Bolivar', valor: '4'})\n",
      "(_245:Parque {Ciudad: 'Machala', name: 'Parque Machala Occidental', valor: '4.1'})\n",
      "(_246:Parque {Ciudad: 'Machala', name: 'Parque Machala', valor: '4.4'})\n",
      "(_247:Parque {Ciudad: 'Machala', name: 'Parque Col\\u00f3n', valor: '4.3'})\n",
      "(_248:Parque {Ciudad: 'Machala', name: 'Parque Central', valor: '5'})\n",
      "(_249:Parque {Ciudad: 'Machala', name: 'Parque de Los Heroes', valor: '4.5'})\n"
     ]
    }
   ],
   "source": [
    "for record in graph.run(\"MATCH(n) RETURN n AS name\"):\n",
    "    print(record['name'])"
   ]
  },
  {
   "cell_type": "markdown",
   "metadata": {},
   "source": [
    "## PAGE RANK ##\n",
    "### ejemplo con datos reales ###\n",
    "#### Descripcion del problema: ####\n",
    "\n",
    "Se desea obtener recomendaciones de centros hospitalarios para una persona que requiera de atención médica, teniendo en cuenta la cantidad y calidad de las conexiones que apunten al lugar de partida. \n"
   ]
  },
  {
   "cell_type": "markdown",
   "metadata": {},
   "source": [
    "#### creará el gráfico y lo almacenará en el catálogo de gráficos.##\n",
    "~~~~\n",
    "CALL gds.graph.create(\n",
    "    'myGraph',\n",
    "    'Page',\n",
    "    'LINKS',\n",
    "    {\n",
    "        relationshipProperties: 'weight'\n",
    "    }\n",
    ")\n",
    "~~~~"
   ]
  },
  {
   "cell_type": "markdown",
   "metadata": {},
   "source": [
    "##### Lo siguiente ejecutará el algoritmo y los resultados de la transmisión: #####"
   ]
  },
  {
   "cell_type": "code",
   "execution_count": 12,
   "metadata": {},
   "outputs": [
    {
     "name": "stdout",
     "output_type": "stream",
     "text": [
      "<Record name='Hospital Regional José Carrasco Arteaga (IESS)' score=0.5058884598314762>\n",
      "<Record name='IESS - Centro de Salud C - Materno Infantil y Emergencias – Cuenca' score=0.4186923070345074>\n",
      "<Record name='Hospital de Atención Integral al Adulto Mayor' score=0.3596109995851293>\n",
      "<Record name='Hospital IESS Santo Domingo de los Tsachilas' score=0.3573814126197249>\n",
      "<Record name='Hospital Dr. Gustavo Dominguez Zambrano' score=0.33168750405311587>\n",
      "<Record name='Hospital Vicente Corral Moscoso' score=0.3161085980944336>\n",
      "<Record name='Hospital Del iess (La Cadena)' score=0.31362500544637445>\n",
      "<Record name='Centro De Salud' score=0.30459375455975535>\n",
      "<Record name='Hospital Esperanza' score=0.30459375455975535>\n",
      "<Record name='Hospital IESS de Machala' score=0.30459375455975535>\n",
      "<Record name='Hospital Abel Gilbert Pontón (Hospital Guayaquil)' score=0.2832906267605722>\n",
      "<Record name='Hospital de Especialidades Teodoro Maldonado Carbo' score=0.2832906267605722>\n",
      "<Record name='Clinica Niño Jesus' score=0.2794523450545967>\n",
      "<Record name='Unidad Médica Municipal \"Dr. Pomerio Cabrera\"' score=0.2794523450545967>\n",
      "<Record name='Centro de Salud Barrazueta' score=0.25369070630986246>\n",
      "<Record name='Hospital Cuba Center' score=0.25369070630986246>\n",
      "<Record name='Centro Medico La Florida' score=0.24660117379389707>\n",
      "<Record name='Hospital de Solca' score=0.24660117379389707>\n",
      "<Record name='Hospital Básico Torre Médica San Andrés' score=0.24397812625393273>\n",
      "<Record name='Hospital Reina Sofia' score=0.24397812625393273>\n",
      "<Record name='Hospital San Marcos' score=0.24397812625393273>\n",
      "<Record name='Hospital Metropolitano' score=0.22729687727987768>\n",
      "<Record name='Hospital Vozandes Quito' score=0.22729687727987768>\n",
      "<Record name='Hospital Básico Los Ángeles' score=0.21375000253319743>\n",
      "<Record name='Hospital Militar' score=0.21375000253319743>\n",
      "<Record name='Hospital SALUDESA' score=0.21375000253319743>\n",
      "<Record name='Punto De Salud' score=0.21375000253319743>\n",
      "<Record name='Hospital Del Dia' score=0.20454166769050064>\n",
      "<Record name='Hospital Del Dia Samuel Ratinoff' score=0.20454166769050064>\n",
      "<Record name='Hospital Universitario de Guayaquil' score=0.20454166769050064>\n",
      "<Record name='Clínica Santa Ines' score=0.19542187601327898>\n",
      "<Record name='Hospital Monte Sinai' score=0.19542187601327898>\n",
      "<Record name='Hospital San Juan De Dios' score=0.19542187601327898>\n",
      "<Record name='Hospital Universitario Católico' score=0.19542187601327898>\n",
      "<Record name='Hospital Clínica San Francisco' score=0.19250000063329936>\n",
      "<Record name='Hospital Luis Vernaza de la Junta de Beneficencia de Guayaquil' score=0.19250000063329936>\n",
      "<Record name='Hospital del dia Dr Angel Felicisimo Rojas' score=0.19250000063329936>\n",
      "<Record name='Clínica De Traumatología' score=0.18187500126659872>\n",
      "<Record name='Hospital Alianza del Ecuador | cirugías' score=0.18187500126659872>\n",
      "<Record name='Hospital General Machala' score=0.18187500126659872>\n",
      "<Record name='Hospital Municipal Del Sur' score=0.18187500126659872>\n",
      "<Record name='Hospital Teófilo Dávila' score=0.18187500126659872>\n",
      "<Record name='Hospital de Especialidades \"Eugenio Espejo\"' score=0.18187500126659872>\n",
      "<Record name='Hospital de Especialidades FFAA N°1' score=0.18187500126659872>\n",
      "<Record name='Hospital del Sur Enrique Garcés' score=0.18187500126659872>\n",
      "<Record name='Hospital Carlos Andrade Marín' score=0.15000000000000002>\n",
      "<Record name='Hospital Clínica Kennedy Samborondón' score=0.15000000000000002>\n",
      "<Record name='Hospital General Santo Domingo' score=0.15000000000000002>\n",
      "<Record name='Hospital Guayaquil de Machala' score=0.15000000000000002>\n",
      "<Record name='Medisol 12 De Abril IESS' score=0.15000000000000002>\n"
     ]
    }
   ],
   "source": [
    "query = \"\"\"\n",
    "CALL gds.pageRank.stream('myGraph', { maxIterations: 20, dampingFactor: 0.85 })\n",
    "YIELD nodeId, score\n",
    "RETURN gds.util.asNode(nodeId).name AS name, score\n",
    "ORDER BY score DESC, name ASC\n",
    "\n",
    "\"\"\"\n",
    "\n",
    "data = graph.run(query)\n",
    "\n",
    "for d in data:\n",
    "    print(d)"
   ]
  },
  {
   "cell_type": "markdown",
   "metadata": {},
   "source": [
    "###### Estimación de memoria######\n",
    "Lo siguiente estimará los requisitos de memoria para ejecutar el algoritmo: "
   ]
  },
  {
   "cell_type": "code",
   "execution_count": 10,
   "metadata": {},
   "outputs": [
    {
     "name": "stdout",
     "output_type": "stream",
     "text": [
      "<Record nodeCount=50 relationshipCount=45 bytesMin=3032 bytesMax=3032 requiredMemory='3032 Bytes'>\n"
     ]
    }
   ],
   "source": [
    "query = \"\"\"\n",
    "CALL gds.pageRank.write.estimate('myGraph', {\n",
    "  writeProperty: 'pageRank',\n",
    "  maxIterations: 20,\n",
    "  dampingFactor: 0.85\n",
    "})\n",
    "YIELD nodeCount, relationshipCount, bytesMin, bytesMax, requiredMemory\n",
    "\"\"\"\n",
    "\n",
    "data = graph.run(query)\n",
    "\n",
    "for d in data:\n",
    "    print(d)"
   ]
  },
  {
   "cell_type": "markdown",
   "metadata": {},
   "source": [
    "#####  Lo siguiente ejecutará el algoritmo y devolverá el resultado en forma de valores estadísticos y de medición ######"
   ]
  },
  {
   "cell_type": "code",
   "execution_count": 13,
   "metadata": {},
   "outputs": [
    {
     "name": "stdout",
     "output_type": "stream",
     "text": [
      "<Record max=0.5058889389038086>\n"
     ]
    }
   ],
   "source": [
    "query = \"\"\"\n",
    "CALL gds.pageRank.stats('myGraph', {\n",
    "  maxIterations: 20,\n",
    "  dampingFactor: 0.85\n",
    "})\n",
    "YIELD centralityDistribution\n",
    "RETURN centralityDistribution.max AS max\n",
    "\"\"\"\n",
    "\n",
    "data = graph.run(query)\n",
    "\n",
    "for d in data:\n",
    "    print(d)"
   ]
  },
  {
   "cell_type": "markdown",
   "metadata": {},
   "source": [
    "La consulta devolvió un llamado histograma de centralidad que puede usarse para monitorear la distribución de los valores del camino en todos los nodos calculados."
   ]
  },
  {
   "cell_type": "code",
   "execution_count": null,
   "metadata": {},
   "outputs": [],
   "source": []
  },
  {
   "cell_type": "code",
   "execution_count": null,
   "metadata": {},
   "outputs": [],
   "source": []
  },
  {
   "cell_type": "markdown",
   "metadata": {},
   "source": [
    "## Strongly Connected Components ##\n",
    "### ejemplo con datos reales ###\n",
    "#### Descripcion del problema: ####\n",
    "\n",
    "Se desea calcular la conectividad entre diferentes parques de una ciudad para poder estimar el rendimiento de enrutamiento en redes inalámbricas entre múltiples parques de la ciudad de Quito.  \n"
   ]
  },
  {
   "cell_type": "markdown",
   "metadata": {},
   "source": [
    "##### Lo siguiente ejecutará el algoritmo y transmitirá los resultados:  #####"
   ]
  },
  {
   "cell_type": "code",
   "execution_count": 28,
   "metadata": {},
   "outputs": [
    {
     "name": "stdout",
     "output_type": "stream",
     "text": [
      "<Record Name='Parque El Ejido' Component=9>\n",
      "<Record Name='Parque Metropolitano del Sur' Component=9>\n",
      "<Record Name='Parque La Alameda' Component=9>\n",
      "<Record Name='Parque Itchimbía' Component=9>\n",
      "<Record Name='Parque Metropolitano Equinoccial' Component=9>\n",
      "<Record Name='Parque Guápulo' Component=9>\n",
      "<Record Name='Parque Puertas del Sol' Component=9>\n",
      "<Record Name='Parque Bicentenario' Component=8>\n",
      "<Record Name='Parque Arqueológico Rumipamba' Component=6>\n",
      "<Record Name='Parque Metropolitano Guangüiltagua' Component=0>\n"
     ]
    }
   ],
   "source": [
    "query = \"\"\"\n",
    "CALL gds.alpha.scc.stream({\n",
    "  nodeQuery: 'MATCH (u:Parque) where u.Ciudad=\"Quito\"  RETURN id(u)  AS id',\n",
    "relationshipQuery: 'MATCH (u1:Parque)-[:DISTANCIA]->(u2:Parque) where u1.Ciudad=\"Quito\" AND u2.Ciudad=\"Quito\" RETURN id(u1) AS source, id(u2) AS target' })\n",
    "YIELD nodeId, componentId\n",
    "RETURN gds.util.asNode(nodeId).name AS Name, componentId AS Component\n",
    "ORDER BY Component DESC\n",
    "\n",
    "\"\"\"\n",
    "\n",
    "data = graph.run(query)\n",
    "\n",
    "for d in data:\n",
    "    print(d)"
   ]
  },
  {
   "cell_type": "code",
   "execution_count": null,
   "metadata": {},
   "outputs": [],
   "source": [
    "podemos observar que el componente altamente conectado es Parque Metropolitano Guangüiltagua seguido de Parque Arqueológico Rumipamba"
   ]
  },
  {
   "cell_type": "code",
   "execution_count": null,
   "metadata": {},
   "outputs": [],
   "source": []
  },
  {
   "cell_type": "markdown",
   "metadata": {},
   "source": [
    "## similitud de Jackard ##\n",
    "### ejemplo con datos reales ###\n",
    "#### Descripcion del problema: ####\n",
    "se necesita obtener una recomendación de rutas a seguir de acuerdo a las similitudes que se hallen entre los caminos cercanos  a la iglesia  El Belén perteneciente a la ciudad de Quito.  \n",
    "\n",
    "\n"
   ]
  },
  {
   "cell_type": "code",
   "execution_count": null,
   "metadata": {},
   "outputs": [],
   "source": [
    "Lo siguiente devolverá la similitud de la iglesia  El Belén  y las otras Iglesias que tienen una discancia en Comun"
   ]
  },
  {
   "cell_type": "code",
   "execution_count": 30,
   "metadata": {},
   "outputs": [
    {
     "name": "stdout",
     "output_type": "stream",
     "text": [
      "<Record from='Iglesia El Belén' to='Basílica Católica de San Pedro de Conocoto' similarity=0.0>\n",
      "<Record from='Iglesia El Belén' to='Catedral Católica de Machala' similarity=0.0>\n",
      "<Record from='Iglesia El Belén' to='Catedral De Cuenca' similarity=0.0>\n",
      "<Record from='Iglesia El Belén' to='Catedral Metropolitana De Guayaquil' similarity=0.0>\n",
      "<Record from='Iglesia El Belén' to='Catedral Metropolitana de Quito' similarity=0.3333333333333333>\n",
      "<Record from='Iglesia El Belén' to='Catedral Vieja de Cuenca' similarity=0.0>\n",
      "<Record from='Iglesia El Belén' to='El Señor de los Puentes' similarity=0.0>\n",
      "<Record from='Iglesia El Belén' to='Iglesia Bíblica Bautista \"Rey de Vida\"' similarity=0.0>\n",
      "<Record from='Iglesia El Belén' to='Iglesia Católica \"Nuestra Señora de Chilla\" - Machala' similarity=0.0>\n",
      "<Record from='Iglesia El Belén' to='Iglesia Católica Cristo del Consuelo - Machala' similarity=0.0>\n",
      "<Record from='Iglesia El Belén' to='Iglesia Católica Jesús El Buen Pastor' similarity=0.0>\n",
      "<Record from='Iglesia El Belén' to='Iglesia Católica Nuestra Señora de Czestochowa' similarity=0.0>\n",
      "<Record from='Iglesia El Belén' to='Iglesia Católica San Gabriel de la Dolorosa' similarity=0.0>\n",
      "<Record from='Iglesia El Belén' to='Iglesia Central' similarity=0.0>\n",
      "<Record from='Iglesia El Belén' to='Iglesia Cristiana Verbo Santo Domingo' similarity=0.0>\n",
      "<Record from='Iglesia El Belén' to='Iglesia Dios es Fiel' similarity=0.0>\n",
      "<Record from='Iglesia El Belén' to='Iglesia Evangélica Bautista \"Espíritu Santo\"' similarity=0.0>\n",
      "<Record from='Iglesia El Belén' to='Iglesia La Merced' similarity=0.0>\n",
      "<Record from='Iglesia El Belén' to='Iglesia La Merced' similarity=0.0>\n",
      "<Record from='Iglesia El Belén' to='Iglesia Nuestra Señora de la Paz' similarity=0.0>\n",
      "<Record from='Iglesia El Belén' to='Iglesia San Francisco' similarity=0.0>\n",
      "<Record from='Iglesia El Belén' to='Iglesia Santa Teresita' similarity=0.0>\n",
      "<Record from='Iglesia El Belén' to='Iglesia cristiana tercer camino' similarity=0.0>\n",
      "<Record from='Iglesia El Belén' to='Iglesia de Cristo la Colón' similarity=0.25>\n",
      "<Record from='Iglesia El Belén' to='Iglesia de Nuestra Señora de La Merced' similarity=0.0>\n",
      "<Record from='Iglesia El Belén' to='Iglesia de Santo Domingo' similarity=0.0>\n",
      "<Record from='Iglesia El Belén' to='Iglesia de la Victoria Nuestra Señora del Carmen' similarity=0.0>\n",
      "<Record from='Iglesia El Belén' to='Iglesia evangélica El Buen Pastor' similarity=0.0>\n",
      "<Record from='Iglesia El Belén' to='Santo Cenáculo' similarity=0.0>\n"
     ]
    }
   ],
   "source": [
    "query = \"\"\"\n",
    "MATCH (p1:Iglesia {name: 'Iglesia El Belén'})-[:DISTANCIA]->(cuisine1)\n",
    "WITH p1, collect(id(cuisine1)) AS p1Cuisine\n",
    "MATCH (p2:Iglesia)-[:DISTANCIA]->(cuisine2) WHERE p1 <> p2\n",
    "WITH p1, p1Cuisine, p2, collect(id(cuisine2)) AS p2Cuisine\n",
    "RETURN p1.name AS from,\n",
    "       p2.name AS to,\n",
    "       gds.alpha.similarity.jaccard(p1Cuisine, p2Cuisine) AS similarity\n",
    "ORDER BY to, similarity DESC\n",
    "\n",
    "\n",
    "\"\"\"\n",
    "\n",
    "data = graph.run(query)\n",
    "\n",
    "for d in data:\n",
    "    print(d)"
   ]
  },
  {
   "cell_type": "markdown",
   "metadata": {},
   "source": [
    "Se puede observar que la Iglesia El Belén a la iglesia Catedral Metropolitana de Quito tiene una  similaritud de 0.3333333333333333 mientras que la Iglesia de Cristo la Colón tiene una similitud de 0.25.\n",
    "la misma que nos da a entender que el punto mas cercano es la Iglesia de Cristo la Colón"
   ]
  },
  {
   "cell_type": "code",
   "execution_count": null,
   "metadata": {},
   "outputs": [],
   "source": [
    "## similitud de Jackard ##\n",
    "### ejemplo con datos reales ###\n",
    "#### Descripcion del problema: ####\n",
    "Se desea calcular la cercanía de los diferentes puntos de centros educativos  tomando como principal referencia la función de sus vecinos compartidos. La misma que nos ofrezca una medida con la que se pueda estimar con precisión la cercanía entre sus vértices pertenecientes a un grafo.\n",
    "\n"
   ]
  },
  {
   "cell_type": "markdown",
   "metadata": {},
   "source": [
    "Lo siguiente devolverá el puntaje de asignación de recursos para 'Unidad Educativa Los Andes' y Colegio Tecnico Salesiano: "
   ]
  },
  {
   "cell_type": "code",
   "execution_count": 31,
   "metadata": {},
   "outputs": [
    {
     "name": "stdout",
     "output_type": "stream",
     "text": [
      "<Record score=0.25>\n"
     ]
    }
   ],
   "source": [
    "query = \"\"\"\n",
    "MATCH (p1:Colegio {name: 'Unidad Educativa Los Andes'})\n",
    "MATCH (p2:Colegio {name: 'Colegio Tecnico Salesiano'})\n",
    " RETURN gds.alpha.linkprediction.resourceAllocation(p1, p2, {relationshipQuery: \"DISTANCIA\"}) AS score\n",
    "\n",
    "\"\"\"\n",
    "\n",
    "data = graph.run(query)\n",
    "\n",
    "for d in data:\n",
    "    print(d)"
   ]
  },
  {
   "cell_type": "code",
   "execution_count": null,
   "metadata": {},
   "outputs": [],
   "source": [
    "Dentro de los resultados que podemos obtener con este algoritmo se tiene que los valores 0 indican que los nodos que son objeto de estudio no están cerca, mientras que en el caso de valores altos indican que los nodos están más cerca."
   ]
  },
  {
   "cell_type": "markdown",
   "metadata": {},
   "source": [
    "##  ##\n",
    "### ejemplo con datos reales ###\n",
    "#### Descripcion del problema: ####\n",
    "se necesita obtener una recomendación de mercados a visitar con menor distancia posible, que el mismo nos permita ahorrar tiempo y esfuerzo.\n",
    "\n"
   ]
  },
  {
   "cell_type": "code",
   "execution_count": null,
   "metadata": {},
   "outputs": [],
   "source": [
    "Lo siguiente ejecutará el algoritmo y los resultados de la transmisión: "
   ]
  },
  {
   "cell_type": "code",
   "execution_count": 32,
   "metadata": {},
   "outputs": [
    {
     "name": "stdout",
     "output_type": "stream",
     "text": [
      "<Record destination='Mercado Sur Machala' distance=inf>\n",
      "<Record destination='Mercado Central De Machala' distance=inf>\n",
      "<Record destination='Mercado Municipal Pto. Bolívar' distance=inf>\n",
      "<Record destination='Feria libre' distance=inf>\n",
      "<Record destination='Supermercados del Norte' distance=inf>\n",
      "<Record destination='Supermaxi Machala' distance=inf>\n",
      "<Record destination='Mercado Municipal De Mayoristas Y Minoristas De Machala.' distance=inf>\n",
      "<Record destination='AKÍ Machala' distance=inf>\n",
      "<Record destination='TÍA Machala' distance=inf>\n",
      "<Record destination='Super AKÍ Palmeras' distance=inf>\n",
      "<Record destination='Mercado Mapasingue Oeste' distance=inf>\n",
      "<Record destination='Mercado Artesanal' distance=inf>\n",
      "<Record destination='Mercado informal Paraiso de la Flor' distance=inf>\n",
      "<Record destination='Mercado Municipal \"Bastión Popular\"' distance=inf>\n",
      "<Record destination='Mercado Transferencia de Viveres' distance=inf>\n",
      "<Record destination='Mercado Oeste' distance=inf>\n",
      "<Record destination='Mercado José Mascote' distance=inf>\n",
      "<Record destination='Mercado Municipal \"Caraguay\"' distance=inf>\n",
      "<Record destination='Mercado San Jacinto' distance=inf>\n",
      "<Record destination='Mercado Municipal Casuarina' distance=inf>\n",
      "<Record destination='Mercado De Mariscos 17 De Diciembre' distance=inf>\n",
      "<Record destination='Mercado Muncipal 30 de Julio / Mercados' distance=inf>\n",
      "<Record destination='Mercado Municipal Santo Domingo De Los Colorados' distance=inf>\n",
      "<Record destination='Union y Progreso' distance=inf>\n",
      "<Record destination='Mercado De Mariscos' distance=inf>\n",
      "<Record destination='Mercado Juan Eulogio' distance=inf>\n",
      "<Record destination='Despensa La Conveniencia' distance=inf>\n",
      "<Record destination='Mercado La FERIA de ropa' distance=inf>\n",
      "<Record destination='Plaza Santo Domingo' distance=inf>\n",
      "<Record destination='MERCADO MUNICIPAL 29 DE MAYO' distance=inf>\n",
      "<Record destination='Mercado 9 de Octubre' distance=inf>\n",
      "<Record destination='Mercado 3 De Noviembre' distance=inf>\n",
      "<Record destination='Mercado 10 de Agosto' distance=inf>\n",
      "<Record destination='Mercado 4 de Noviembre' distance=inf>\n",
      "<Record destination='Mercado de Artesanias Rotary' distance=inf>\n",
      "<Record destination='El Arenal' distance=inf>\n",
      "<Record destination='Mercado 12 de Abril' distance=inf>\n",
      "<Record destination='Flowers Market Mercado de las Flores' distance=inf>\n",
      "<Record destination='Mercado de Miraflores' distance=inf>\n",
      "<Record destination='Arándano Mercado Mayorista' distance=inf>\n",
      "<Record destination='Mercado Central' distance=1642.0>\n",
      "<Record destination='Mercado Iñaquito (Mercado La Carolina)' distance=7628.0>\n",
      "<Record destination='Mercado M.M. - verduras y frutas' distance=6340.0>\n",
      "<Record destination='Mercado Artesanal La Mariscal' distance=3612.0>\n",
      "<Record destination='Mercado Carapungo' distance=16969.0>\n",
      "<Record destination='Mercado La Floresta' distance=4694.0>\n",
      "<Record destination='Mercado de San Roque' distance=0.0>\n",
      "<Record destination='Mercado Cumbayá' distance=14391.0>\n",
      "<Record destination='Mercado De Solanda' distance=6789.0>\n",
      "<Record destination='Mercado Municipal Chiriyacu' distance=3437.0>\n"
     ]
    }
   ],
   "source": [
    "query = \"\"\"\n",
    "MATCH (n:Mercado {name: 'Mercado de San Roque'}) where n.Ciudad=\"Quito\" \n",
    "CALL gds.alpha.shortestPath.deltaStepping.stream({\n",
    "  nodeProjection: 'Mercado',\n",
    "  relationshipProjection: {\n",
    "    DISTANCIA: {\n",
    "      type: 'DISTANCIA',\n",
    "      properties: 'weight'\n",
    "    }\n",
    "  },\n",
    "  startNode: n,\n",
    "  relationshipWeightProperty: 'weight',\n",
    "  delta: 3.0\n",
    "})\n",
    "YIELD nodeId, distance\n",
    "RETURN gds.util.asNode(nodeId).name AS destination, distance\n",
    "\"\"\"\n",
    "\n",
    "data = graph.run(query)\n",
    "\n",
    "for d in data:\n",
    "    print(d)"
   ]
  },
  {
   "cell_type": "code",
   "execution_count": null,
   "metadata": {},
   "outputs": [],
   "source": [
    "El resultado indicado en la tabla nos dice que partiendo desde Mercado de San Roque hacia otro nodo el costo de operación es cero, es decir, la ruta más corta, es la que inicia desde ese vértice."
   ]
  }
 ],
 "metadata": {
  "kernelspec": {
   "display_name": "Python 3",
   "language": "python",
   "name": "python3"
  },
  "language_info": {
   "codemirror_mode": {
    "name": "ipython",
    "version": 3
   },
   "file_extension": ".py",
   "mimetype": "text/x-python",
   "name": "python",
   "nbconvert_exporter": "python",
   "pygments_lexer": "ipython3",
   "version": "3.7.6"
  }
 },
 "nbformat": 4,
 "nbformat_minor": 4
}
